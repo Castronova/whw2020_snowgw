{
 "cells": [
  {
   "cell_type": "markdown",
   "metadata": {},
   "source": [
    "# This is the title\n"
   ]
  },
  {
   "cell_type": "code",
   "execution_count": null,
   "metadata": {},
   "outputs": [],
   "source": [
    "import os\n",
    "from datetime import datetime, timedelta\n",
    "import pyproj\n",
    "\n",
    "import re\n",
    "import xarray\n",
    "import requests\n",
    "import warnings\n",
    "import matplotlib\n",
    "import numpy as np\n",
    "import holoviews as hv\n",
    "from matplotlib import rc\n",
    "import matplotlib.pyplot as plt\n",
    "import xml.etree.ElementTree as ET\n",
    "from matplotlib.animation import FuncAnimation"
   ]
  },
  {
   "cell_type": "code",
   "execution_count": null,
   "metadata": {},
   "outputs": [],
   "source": [
    "# data availability\n",
    "# Earliest available: 2019-09-03\n",
    "# Latest available: current\n",
    "\n",
    "\n",
    "# output file types\n",
    "#  CHANNEL_RT\n",
    "#   time \"minutes since 1970-01-01 00:00:00 UTC\" ;\n",
    "#   streamflow River Flow\" \"m3 s-1\" ;\n",
    "#   nudge: Amount of stream flow alteration m3 s-1\n",
    "#   q_lateral: Runoff into channel reach m3 s-1\n",
    "#   velocity: River Velocity m s-1\n",
    "#   feature_id: Reach ID\n",
    "\n",
    "#  LAND\n",
    "#   time:  minutes since 1970-01-01 00:00:00 UTC\n",
    "#   SNOWH: Snow depth, m\n",
    "#   SNEQV: Snow water equivalent kg m-2\n",
    "#   FSNO: Snow-cover fraction on the ground\n",
    "#   ACCET: Accumulated total ET, mm\n",
    "#   SOILSAT_TOP: Fraction of soil saturation, top 2 layers\n",
    "#   SNOWT_AVG: Average snow temperature (by layer mass), K\n",
    "#   x: x coordinate of projection\n",
    "#   y: y coordinate of projection\n",
    "\n",
    "#  TERRAIN_RT\n",
    "#   time:  minutes since 1970-01-01 00:00:00 UTC\n",
    "#   zwattablrt: water table depth, m\n",
    "#   sfcheadsubrt: surface head, mm\n",
    "#   x: x coordinate of projection\n",
    "#   y: y coordinate of projection\n",
    "\n",
    "#  RESERVOIR\n",
    "#   elevation: Water Surface Elevation, m\n",
    "#   inflow: Lake Inflow, m3 s-1\n",
    "#   outflow: Lake Outflow, m3 s-1\n",
    "#   time: minutes since 1970-01-01 00:00:00 UTC\n",
    "#   latitude: Lake latitude, degrees_north\n",
    "#   longitude: Lake longitude, degrees_east\n",
    "#   feature_id: ComID from NHDPlusV2 waterbody layer\n"
   ]
  },
  {
   "cell_type": "code",
   "execution_count": null,
   "metadata": {},
   "outputs": [],
   "source": [
    "# define the url of the thredds server\n",
    "thredds_base='http://thredds.hydroshare.org/thredds/dodsC/nwm'"
   ]
  },
  {
   "cell_type": "code",
   "execution_count": null,
   "metadata": {},
   "outputs": [],
   "source": [
    "def get_file_name(base_url, config, dt, timestep, init=0, output='land'):\n",
    "    \"\"\"\n",
    "    function to build file urls from the input parameters defined above\n",
    "    \"\"\"\n",
    "    p =f'{config}/nwm.{dt}.t{timestep:0>2}z.{config}.{output}.' + \\\n",
    "       f'tm{init:0>2}.conus.nc'\n",
    "    return os.path.join(base_url, p)\n"
   ]
  },
  {
   "cell_type": "markdown",
   "metadata": {},
   "source": [
    "### Build list of file paths"
   ]
  },
  {
   "cell_type": "code",
   "execution_count": null,
   "metadata": {},
   "outputs": [],
   "source": [
    "# specify date and options arguments\n",
    "\n",
    "st = datetime(2020, 8, 10)\n",
    "et = datetime(2020, 8, 12)\n",
    "\n",
    "initialization_time = 0\n",
    "configuration = 'analysis_assim'\n",
    "num_timesteps = 24\n",
    "step_size = 1\n",
    "output_type = 'land'"
   ]
  },
  {
   "cell_type": "code",
   "execution_count": null,
   "metadata": {},
   "outputs": [],
   "source": [
    "# build a list of files that we're interested in\n",
    "curr_time = st\n",
    "\n",
    "# loop through time\n",
    "paths = []\n",
    "while curr_time <= et:\n",
    "    dt = curr_time.strftime('%Y%m%d')\n",
    "    \n",
    "    for i in range(0, num_timesteps):\n",
    "        timestep = i * step_size\n",
    "        fname = get_file_name(thredds_base,\n",
    "                              configuration,\n",
    "                              dt,\n",
    "                              timestep,\n",
    "                              initialization_time,\n",
    "                              output_type)\n",
    "        paths.append(fname)\n",
    "\n",
    "    # increment time\n",
    "    curr_time = curr_time + timedelta(days=1)"
   ]
  },
  {
   "cell_type": "markdown",
   "metadata": {},
   "source": [
    "### Read files using Xarray"
   ]
  },
  {
   "cell_type": "markdown",
   "metadata": {},
   "source": [
    "Open a single dataset"
   ]
  },
  {
   "cell_type": "code",
   "execution_count": null,
   "metadata": {},
   "outputs": [],
   "source": [
    "%%time\n",
    "# open many dataset using xarray. This will take some time because the metadata needs to be read from each file.\n",
    "mds = xarray.open_mfdataset(paths)"
   ]
  },
  {
   "cell_type": "code",
   "execution_count": null,
   "metadata": {},
   "outputs": [],
   "source": [
    "%%time\n",
    "mds"
   ]
  },
  {
   "cell_type": "markdown",
   "metadata": {},
   "source": [
    "Convert coordinates of interest into the NWM projection"
   ]
  },
  {
   "cell_type": "code",
   "execution_count": null,
   "metadata": {},
   "outputs": [],
   "source": [
    "wgs84_proj4 = \"+proj=longlat +ellps=WGS84 +datum=WGS84 +no_defs \"\n",
    "wrf_proj4 = \"+proj=lcc +lat_1=30 +lat_2=60 +lat_0=40 +lon_0=-97 +x_0=0 +y_0=0 +a=6370000 +b=6370000 +units=m +no_defs\""
   ]
  },
  {
   "cell_type": "code",
   "execution_count": null,
   "metadata": {},
   "outputs": [],
   "source": [
    "llon, llat, ulon, ulat = [-122.6089,   44.8004, -121.6515,   45.4562]\n",
    "#llon, llat, ulon, ulat = [-105.8033,   40.2271, -104.7605,   40.629]\n",
    "\n",
    "#from 2001-09-06 to 2020-08-26\n"
   ]
  },
  {
   "cell_type": "code",
   "execution_count": null,
   "metadata": {},
   "outputs": [],
   "source": [
    "def transform_coords(insrs, outsrs, lon, lat):\n",
    "    inProj = pyproj.Proj(insrs)\n",
    "    outProj = pyproj.Proj(outsrs)\n",
    "    return pyproj.transform(inProj, outProj, lon, lat)"
   ]
  },
  {
   "cell_type": "code",
   "execution_count": null,
   "metadata": {},
   "outputs": [],
   "source": [
    "lon_min, lat_min = transform_coords(wgs84_proj4, wrf_proj4, llon, llat)\n",
    "lon_max, lat_max = transform_coords(wgs84_proj4, wrf_proj4, ulon, ulat)"
   ]
  },
  {
   "cell_type": "code",
   "execution_count": null,
   "metadata": {},
   "outputs": [],
   "source": [
    "lats = mds.variables['y'][:] \n",
    "lons = mds.variables['x'][:]\n",
    "lat_bnds = [ lat_min , lat_max ]\n",
    "lon_bnds = [ lon_min , lon_max ] \n",
    "\n",
    "lat_inds = np.where((lats > lat_bnds[0]) & (lats < lat_bnds[1]))\n",
    "lon_inds = np.where((lons > lon_bnds[0]) & (lons < lon_bnds[1]))"
   ]
  },
  {
   "cell_type": "code",
   "execution_count": null,
   "metadata": {},
   "outputs": [],
   "source": [
    "llat = lat_inds[0].min()\n",
    "ulat = lat_inds[0].max()\n",
    "llon = lon_inds[0].min()\n",
    "ulon = lon_inds[0].max()\n",
    "\n",
    "print('latitude index range:  %d -> %d' % (llat, ulat))\n",
    "print('longitude index range: %d -> %d' % (llon, ulon))"
   ]
  },
  {
   "cell_type": "code",
   "execution_count": null,
   "metadata": {},
   "outputs": [],
   "source": [
    "# perform subset\n",
    "subset = mds.isel(x=lon_inds[0], y=lat_inds[0])\n",
    "\n",
    "# view the subsetted data\n",
    "subset"
   ]
  },
  {
   "cell_type": "code",
   "execution_count": 1,
   "metadata": {},
   "outputs": [
    {
     "ename": "NameError",
     "evalue": "name 'subset' is not defined",
     "output_type": "error",
     "traceback": [
      "\u001b[0;31m---------------------------------------------------------------------------\u001b[0m",
      "\u001b[0;31mNameError\u001b[0m                                 Traceback (most recent call last)",
      "\u001b[0;32m<ipython-input-1-d02f6dd06280>\u001b[0m in \u001b[0;36m<module>\u001b[0;34m()\u001b[0m\n\u001b[1;32m      1\u001b[0m \u001b[0;31m# this fails on the CUAHSI JupyterHub because it's too memory intensive.\u001b[0m\u001b[0;34m\u001b[0m\u001b[0;34m\u001b[0m\u001b[0;34m\u001b[0m\u001b[0m\n\u001b[0;32m----> 2\u001b[0;31m \u001b[0msubset\u001b[0m\u001b[0;34m.\u001b[0m\u001b[0mto_netcdf\u001b[0m\u001b[0;34m(\u001b[0m\u001b[0;34m'region1.nc'\u001b[0m\u001b[0;34m)\u001b[0m\u001b[0;34m\u001b[0m\u001b[0;34m\u001b[0m\u001b[0m\n\u001b[0m",
      "\u001b[0;31mNameError\u001b[0m: name 'subset' is not defined"
     ]
    }
   ],
   "source": [
    "# this fails on the CUAHSI JupyterHub because it's too memory intensive.\n",
    "subset.to_netcdf('region1.nc')"
   ]
  },
  {
   "cell_type": "code",
   "execution_count": null,
   "metadata": {},
   "outputs": [],
   "source": []
  }
 ],
 "metadata": {
  "kernelspec": {
   "display_name": "Python [conda env:whw]",
   "language": "python",
   "name": "conda-env-whw-py"
  },
  "language_info": {
   "codemirror_mode": {
    "name": "ipython",
    "version": 3
   },
   "file_extension": ".py",
   "mimetype": "text/x-python",
   "name": "python",
   "nbconvert_exporter": "python",
   "pygments_lexer": "ipython3",
   "version": "3.6.11"
  }
 },
 "nbformat": 4,
 "nbformat_minor": 4
}
