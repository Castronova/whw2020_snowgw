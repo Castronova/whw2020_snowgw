{
 "cells": [
  {
   "cell_type": "markdown",
   "metadata": {},
   "source": [
    "# SnowGW Exploratory Data Analysis (EDA)\n",
    "\n",
    "---"
   ]
  },
  {
   "cell_type": "markdown",
   "metadata": {},
   "source": [
    "### Preliminary visualization\n",
    "\n",
    "Time series plots of all variables"
   ]
  },
  {
   "cell_type": "code",
   "execution_count": 2,
   "metadata": {},
   "outputs": [],
   "source": [
    "import numpy as np\n",
    "import pandas as pd\n",
    "\n",
    "# scipy statistics package\n",
    "import scipy.stats as st\n",
    "\n",
    "# for plotting\n",
    "import matplotlib.pyplot as plt\n",
    "# tell jupyter to show our plots in the notebook here\n",
    "%matplotlib inline"
   ]
  },
  {
   "cell_type": "markdown",
   "metadata": {},
   "source": [
    "Load in a csv"
   ]
  },
  {
   "cell_type": "code",
   "execution_count": 3,
   "metadata": {},
   "outputs": [
    {
     "data": {
      "text/html": [
       "<div>\n",
       "<style scoped>\n",
       "    .dataframe tbody tr th:only-of-type {\n",
       "        vertical-align: middle;\n",
       "    }\n",
       "\n",
       "    .dataframe tbody tr th {\n",
       "        vertical-align: top;\n",
       "    }\n",
       "\n",
       "    .dataframe thead th {\n",
       "        text-align: right;\n",
       "    }\n",
       "</style>\n",
       "<table border=\"1\" class=\"dataframe\">\n",
       "  <thead>\n",
       "    <tr style=\"text-align: right;\">\n",
       "      <th></th>\n",
       "      <th>prcp</th>\n",
       "      <th>et</th>\n",
       "      <th>disch</th>\n",
       "      <th>swe</th>\n",
       "      <th>stn_swe</th>\n",
       "      <th>gw</th>\n",
       "      <th>month</th>\n",
       "      <th>year</th>\n",
       "    </tr>\n",
       "  </thead>\n",
       "  <tbody>\n",
       "    <tr>\n",
       "      <th>0</th>\n",
       "      <td>334.104779</td>\n",
       "      <td>4.429900</td>\n",
       "      <td>153.008225</td>\n",
       "      <td>65.746676</td>\n",
       "      <td>11.374194</td>\n",
       "      <td>63.449355</td>\n",
       "      <td>1</td>\n",
       "      <td>2008</td>\n",
       "    </tr>\n",
       "    <tr>\n",
       "      <th>1</th>\n",
       "      <td>168.820151</td>\n",
       "      <td>6.240035</td>\n",
       "      <td>110.803206</td>\n",
       "      <td>56.775266</td>\n",
       "      <td>20.479310</td>\n",
       "      <td>63.017931</td>\n",
       "      <td>2</td>\n",
       "      <td>2008</td>\n",
       "    </tr>\n",
       "    <tr>\n",
       "      <th>2</th>\n",
       "      <td>246.509770</td>\n",
       "      <td>18.118176</td>\n",
       "      <td>139.330672</td>\n",
       "      <td>33.609042</td>\n",
       "      <td>21.335484</td>\n",
       "      <td>62.409355</td>\n",
       "      <td>3</td>\n",
       "      <td>2008</td>\n",
       "    </tr>\n",
       "  </tbody>\n",
       "</table>\n",
       "</div>"
      ],
      "text/plain": [
       "         prcp         et       disch        swe    stn_swe         gw  month  \\\n",
       "0  334.104779   4.429900  153.008225  65.746676  11.374194  63.449355      1   \n",
       "1  168.820151   6.240035  110.803206  56.775266  20.479310  63.017931      2   \n",
       "2  246.509770  18.118176  139.330672  33.609042  21.335484  62.409355      3   \n",
       "\n",
       "   year  \n",
       "0  2008  \n",
       "1  2008  \n",
       "2  2008  "
      ]
     },
     "execution_count": 3,
     "metadata": {},
     "output_type": "execute_result"
    }
   ],
   "source": [
    "data = pd.read_csv('data/mashupdata.csv')\n",
    "\n",
    "data.head(3)"
   ]
  },
  {
   "cell_type": "code",
   "execution_count": null,
   "metadata": {},
   "outputs": [],
   "source": [
    "fig, ax = plt.subplots()\n",
    "\n",
    "data.plot(x='years', y='SLI_max', c='b', ax=ax, label='Slide Canyon')\n",
    "data.plot(x='years', y='BLC_max', c='r', ax=ax, label='Blue Canyon')\n",
    "\n",
    "ax.set_title('Timeline of Peak Snow Water Equivalent (SWE)')\n",
    "ax.set_xlabel('Water Year')\n",
    "ax.set_ylabel('Peak SWE (mm)');\n",
    "plt.legend(loc=\"best\")"
   ]
  },
  {
   "cell_type": "markdown",
   "metadata": {},
   "source": [
    "Hydrograph/Hyetograph"
   ]
  },
  {
   "cell_type": "code",
   "execution_count": null,
   "metadata": {},
   "outputs": [],
   "source": [
    "# From Nina's code\n",
    "\n",
    "fig, ax1 = plt.subplots(figsize=(12,8))\n",
    "\n",
    "color = 'teal'\n",
    "ax1.set_xlabel('time (s)')\n",
    "ax1.set_ylabel('swe', color=color)\n",
    "ax1.plot(swe['datetime'], swe['687_OR_SNTL'], color=color)\n",
    "ax1.tick_params(axis='y', labelcolor=color)\n",
    "\n",
    "ax2 = ax1.twinx()  # instantiate a second axes that shares the same x-axis\n",
    "\n",
    "color = 'tab:blue'\n",
    "ax2.set_ylabel('precip', color=color)  # we already handled the x-label with ax1\n",
    "ax2.bar(swe['datetime'],-swe['687_OR_SNTL_daymetPR'], color=color,alpha = .6)\n",
    "ax2.tick_params(axis='y', labelcolor=color)\n",
    "\n",
    "fig.tight_layout()  # otherwise the right y-label is slightly clipped\n",
    "plt.show()"
   ]
  },
  {
   "cell_type": "markdown",
   "metadata": {},
   "source": [
    "Other time series comparisons?"
   ]
  },
  {
   "cell_type": "markdown",
   "metadata": {},
   "source": [
    "---\n",
    "\n",
    "### Questions\n",
    "\n",
    "**How correlated are Daymet and SNOTEL SWE?**\n",
    "* Scatterplot Daymet ~ SNOTEL\n",
    "* Estimate correlation coefficient\n",
    "\n",
    "**How do Daymet and SNOTEL distributions compare? Are there aggregation differences (e.g., Daymet more smooth than SNOTEL, SNOTEL greater magnitude)?**\n",
    "* Histogram or density plots\n",
    "\n",
    "**What predictors is discharge most correlated with?**\n",
    "* Multiple linear regression of discharge on water storage, GW levels, SWE, and precipitation\n",
    "\n",
    "**What are the lags between water storage, SWE, and discharge? How do we interpret them?**\n",
    "* Visualizations; differences between seasonal peaks"
   ]
  },
  {
   "cell_type": "markdown",
   "metadata": {},
   "source": [
    "----------------\n",
    "\n",
    "<div class=\"alert alert-success\" style=\"font-size:100%\">\n",
    "<b style=\"font-size:120%\">Scatterplot</b></br>\n",
    "</div>"
   ]
  },
  {
   "cell_type": "code",
   "execution_count": null,
   "metadata": {},
   "outputs": [],
   "source": []
  },
  {
   "cell_type": "code",
   "execution_count": null,
   "metadata": {},
   "outputs": [],
   "source": []
  },
  {
   "cell_type": "code",
   "execution_count": null,
   "metadata": {},
   "outputs": [],
   "source": [
    "fig, ax = plt.subplots(figsize=(4,4))\n",
    "\n",
    "# Scatterplot\n",
    "data.plot.scatter(x='SLI_max', y='BLC_max', c='k', ax=ax);\n",
    "\n",
    "ax.set_xlabel('Slide Canyon max SWE (mm)')\n",
    "ax.set_ylabel('Blue Canyon max SWE (mm)');"
   ]
  },
  {
   "cell_type": "markdown",
   "metadata": {},
   "source": [
    "----------------\n",
    "\n",
    "<div class=\"alert alert-success\" style=\"font-size:100%\">\n",
    "<b style=\"font-size:120%\">Distributions</b></br>\n",
    "</div>"
   ]
  },
  {
   "cell_type": "code",
   "execution_count": null,
   "metadata": {},
   "outputs": [],
   "source": []
  },
  {
   "cell_type": "code",
   "execution_count": null,
   "metadata": {},
   "outputs": [],
   "source": [
    "# From Nina's code\n",
    "dif = swe['dif'][swe['dif']!=0]\n",
    "dif.hist(bins=120, color = 'b')"
   ]
  },
  {
   "cell_type": "code",
   "execution_count": null,
   "metadata": {},
   "outputs": [],
   "source": [
    "# From Nina's code\n",
    "import seaborn as sns\n",
    "ax = sns.distplot(dif)"
   ]
  },
  {
   "cell_type": "code",
   "execution_count": null,
   "metadata": {},
   "outputs": [],
   "source": [
    "# From Nina's code\n",
    "\n",
    "# Sample from a normal distribution using numpy's random number generator\n",
    "samples = dif\n",
    "\n",
    "# Compute a histogram of the sample\n",
    "bins = np.linspace(-5, 5, 30)\n",
    "histogram, bins = np.histogram(samples, bins=bins, density=True)\n",
    "\n",
    "bin_centers = 0.5*(bins[1:] + bins[:-1])\n",
    "\n",
    "# Compute the PDF on the bin centers from scipy distribution object\n",
    "from scipy import stats\n",
    "pdf = stats.norm.pdf(bin_centers)\n",
    "\n",
    "from matplotlib import pyplot as plt\n",
    "plt.figure(figsize=(6, 4))\n",
    "plt.plot(bin_centers, histogram, label=\"Histogram of samples\")\n",
    "plt.plot(bin_centers, pdf, label=\"PDF\")\n",
    "plt.legend()\n",
    "plt.show()"
   ]
  },
  {
   "cell_type": "markdown",
   "metadata": {},
   "source": [
    "----------------\n",
    "\n",
    "<div class=\"alert alert-success\" style=\"font-size:100%\">\n",
    "<b style=\"font-size:120%\">Regression</b></br>\n",
    "</div>"
   ]
  },
  {
   "cell_type": "markdown",
   "metadata": {},
   "source": [
    "**Linear regression**: regression of discharge on water storage, GW levels, SWE, and precipitation"
   ]
  },
  {
   "cell_type": "code",
   "execution_count": null,
   "metadata": {},
   "outputs": [],
   "source": [
    "st.linregress?"
   ]
  },
  {
   "cell_type": "code",
   "execution_count": null,
   "metadata": {},
   "outputs": [],
   "source": [
    "# use the linear regression function\n",
    "slope, intercept, rvalue, pvalue, stderr = st.linregress(data.SLI_max, data.BLC_max)"
   ]
  },
  {
   "cell_type": "markdown",
   "metadata": {},
   "source": [
    "Plot the result"
   ]
  },
  {
   "cell_type": "code",
   "execution_count": null,
   "metadata": {},
   "outputs": [],
   "source": [
    "fig, ax = plt.subplots(figsize=(4,4))\n",
    "\n",
    "# Scatterplot\n",
    "data.plot.scatter(x='SLI_max', y='BLC_max', c='k', ax=ax);\n",
    "\n",
    "# Create points for the regression line\n",
    "x = np.linspace(data.SLI_max.min(), data.SLI_max.max(), data.SLI_max.size) # x coordinates from min and max values of SLI_max\n",
    "y = slope * x + intercept # y coordinates using the slope and intercept from our linear regression\n",
    "\n",
    "# Plot the regression line\n",
    "ax.plot(x, y, '-r')\n",
    "\n",
    "ax.set_xlabel('Slide Canyon max SWE (mm)')\n",
    "ax.set_ylabel('Blue Canyon max SWE (mm)');"
   ]
  },
  {
   "cell_type": "markdown",
   "metadata": {},
   "source": [
    "We've used the slope and intercept from the linear regression, what were the other values the function returned to us?\n",
    "\n",
    "This function gives us our R value, we can report how well our linear regression fits our data with this or R-squared (you can see in this case linear regression did a poor job)"
   ]
  },
  {
   "cell_type": "code",
   "execution_count": null,
   "metadata": {},
   "outputs": [],
   "source": [
    "print('r-value = {}'.format(rvalue))\n",
    "\n",
    "print('r-squared = {}'.format(rvalue**2))"
   ]
  },
  {
   "cell_type": "markdown",
   "metadata": {},
   "source": [
    "This function also performed a two-sided \"Wald Test\" (t-distribution) to test if the slope of the linear regression is different from zero (null hypothesis is that the slope is not different from a slope of zero). Be careful using this default statistical test though, is this the test that you really need to use on your data set?"
   ]
  },
  {
   "cell_type": "code",
   "execution_count": null,
   "metadata": {},
   "outputs": [],
   "source": [
    "print('p-value = {}'.format(pvalue))"
   ]
  },
  {
   "cell_type": "markdown",
   "metadata": {},
   "source": [
    "And finally it gives us the standard error"
   ]
  },
  {
   "cell_type": "code",
   "execution_count": null,
   "metadata": {},
   "outputs": [],
   "source": [
    "print('standard error = {}'.format(stderr))"
   ]
  },
  {
   "cell_type": "markdown",
   "metadata": {},
   "source": [
    "We can also make a plot of the residuals (actual - predicted values)"
   ]
  },
  {
   "cell_type": "code",
   "execution_count": null,
   "metadata": {},
   "outputs": [],
   "source": [
    "residuals = data.BLC_max - y"
   ]
  },
  {
   "cell_type": "markdown",
   "metadata": {},
   "source": [
    "For a good linear fit, we hope that our residuals are small, don't have any trends or patterns themselves, want them to be normally distributed:"
   ]
  },
  {
   "cell_type": "code",
   "execution_count": null,
   "metadata": {},
   "outputs": [],
   "source": [
    "f, (ax1, ax2) = plt.subplots(2,1,figsize=(6,6))\n",
    "\n",
    "ax1.hist(residuals)\n",
    "ax1.set_xlabel('residuals (mm SWE)')\n",
    "ax1.set_ylabel('count')\n",
    "\n",
    "\n",
    "ax2.plot(data.years,residuals)\n",
    "ax2.set_xlabel('years')\n",
    "ax2.set_ylabel('residuals (mm SWE)')\n",
    "\n",
    "f.tight_layout()"
   ]
  },
  {
   "cell_type": "markdown",
   "metadata": {},
   "source": [
    "That distribution doesn't look quite normal, and there seems to be a negative bias (our predictions are higher then the observations).\n",
    "\n",
    "There doesn't seem to be a trend in the residuals over time, but they're very noisy.\n",
    "\n",
    "Let's plot what the predictions of Blue Canyon SWE would look like if we were to use this linear model:"
   ]
  },
  {
   "cell_type": "code",
   "execution_count": null,
   "metadata": {},
   "outputs": [],
   "source": [
    "# Use our linear model to make predictions:\n",
    "BLC_pred = slope * data.SLI_max + intercept"
   ]
  },
  {
   "cell_type": "code",
   "execution_count": null,
   "metadata": {},
   "outputs": [],
   "source": [
    "fig, ax = plt.subplots()\n",
    "\n",
    "data.plot(x='years', y='SLI_max', c='b', ax=ax, label='Slide Canyon Observed')\n",
    "data.plot(x='years', y='BLC_max', c='r', ax=ax, label='Blue Canyon Observed')\n",
    "\n",
    "# Plot the predicted SWE at Blue Canyon\n",
    "ax.plot(data.years, BLC_pred, c='k', linestyle='--', label='Blue Canyon Predictions')\n",
    "\n",
    "ax.set_title('Timeline of Peak Snow Water Equivalent (SWE)')\n",
    "ax.set_xlabel('Water Year')\n",
    "ax.set_ylabel('Peak SWE (mm)');\n",
    "plt.legend(loc=\"best\")"
   ]
  },
  {
   "cell_type": "code",
   "execution_count": null,
   "metadata": {},
   "outputs": [],
   "source": []
  }
 ],
 "metadata": {
  "kernelspec": {
   "display_name": "Python [conda env:whw]",
   "language": "python",
   "name": "conda-env-whw-py"
  },
  "language_info": {
   "codemirror_mode": {
    "name": "ipython",
    "version": 3
   },
   "file_extension": ".py",
   "mimetype": "text/x-python",
   "name": "python",
   "nbconvert_exporter": "python",
   "pygments_lexer": "ipython3",
   "version": "3.6.11"
  }
 },
 "nbformat": 4,
 "nbformat_minor": 4
}
