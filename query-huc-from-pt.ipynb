{
 "cells": [
  {
   "cell_type": "code",
   "execution_count": 64,
   "metadata": {},
   "outputs": [],
   "source": [
    "import requests\n",
    "import xml.etree.ElementTree as ET\n",
    "\n",
    "import warnings\n",
    "warnings.filterwarnings('ignore')"
   ]
  },
  {
   "cell_type": "code",
   "execution_count": 65,
   "metadata": {},
   "outputs": [],
   "source": [
    "def getHUC(lat, lon):\n",
    "    \"\"\"\n",
    "    Function to get the HUC12 - HUC2 ids for a given latitude and longitude.\n",
    "    Latitude and Longitude should be in WGS84 (EPSG:4326)\n",
    "    \"\"\"\n",
    "\n",
    "    # the url of the web service for WBD info\n",
    "    root='https://arcgis.cuahsi.org/arcgis/services/US_WBD/HUC_WBD/MapServer/WFSServer'\n",
    "\n",
    "    # assumes that the input coords are in WGS84, i.e. EPSG:4326\n",
    "    params = {'service': 'WFS',\n",
    "              'request': 'GetFeature',\n",
    "              'bbox': f\"{lon}, {lat}, {lon}, {lat}\",         \n",
    "              'typeName': 'HUC_WBD:HUC12_US',\n",
    "              'SrsName': 'EPSG:4326'}\n",
    "\n",
    "    # make the WFS request\n",
    "    r = requests.get(url = root, params = params, verify=False)\n",
    "    \n",
    "    # exit if we don't get a 200 response\n",
    "    if r.status_code != 200:\n",
    "        print(f'Error getting HUC for point: {lat}, {lon}')\n",
    "        return None\n",
    "    \n",
    "    # load the response xml into memory\n",
    "    root_xml = root = ET.fromstring(r.text)\n",
    "    \n",
    "    # define xml namespaces to make parsing easier\n",
    "    ns = {'xs': \"http://www.w3.org/2001/XMLSchema\",\n",
    "          'wfs':\"http://www.opengis.net/wfs/2.0\",\n",
    "          'gml':\"http://www.opengis.net/gml/3.2\",\n",
    "          'US_WBD_HUC_WBD':\"http://arcgis.cuahsi.org/arcgis/services/US_WBD/HUC_WBD/MapServer/WFSServer\",\n",
    "          'xlink':\"http://www.w3.org/1999/xlink\",\n",
    "          'xsi': \"http://www.w3.org/2001/XMLSchema-instance\" \n",
    "         }\n",
    "    \n",
    "    # get the wfs:member element\n",
    "    hucs = root_xml.findall('wfs:member', ns)\n",
    "    \n",
    "    # we should only get a single HUC since we're querying a point location\n",
    "    huc12 = root_xml.findall('wfs:member/US_WBD_HUC_WBD:HUC12_US/US_WBD_HUC_WBD:HUC12', ns)[0].text\n",
    "    \n",
    "    return dict(huc12 = huc12,\n",
    "                huc10 = huc12[:-2],\n",
    "                huc8 = huc12[:-4],\n",
    "                huc6 = huc12[:-6],\n",
    "                huc4 = huc12[:-8],\n",
    "                huc2 = huc12[:-10],\n",
    "               )"
   ]
  },
  {
   "cell_type": "code",
   "execution_count": 66,
   "metadata": {},
   "outputs": [
    {
     "data": {
      "text/plain": [
       "{'huc12': '170900050601',\n",
       " 'huc10': '1709000506',\n",
       " 'huc8': '17090005',\n",
       " 'huc6': '170900',\n",
       " 'huc4': '1709',\n",
       " 'huc2': '17'}"
      ]
     },
     "execution_count": 66,
     "metadata": {},
     "output_type": "execute_result"
    }
   ],
   "source": [
    "lat = 44.8004\n",
    "lon = -122.6089\n",
    "\n",
    "getHUC(lat, lon)\n"
   ]
  }
 ],
 "metadata": {
  "kernelspec": {
   "display_name": "Python [conda env:whw]",
   "language": "python",
   "name": "conda-env-whw-py"
  },
  "language_info": {
   "codemirror_mode": {
    "name": "ipython",
    "version": 3
   },
   "file_extension": ".py",
   "mimetype": "text/x-python",
   "name": "python",
   "nbconvert_exporter": "python",
   "pygments_lexer": "ipython3",
   "version": "3.6.11"
  }
 },
 "nbformat": 4,
 "nbformat_minor": 4
}
