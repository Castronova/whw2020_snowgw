{
 "cells": [
  {
   "cell_type": "code",
   "execution_count": 70,
   "metadata": {},
   "outputs": [],
   "source": [
    "import json\n",
    "import numpy\n",
    "import requests\n",
    "import xml.etree.ElementTree as ET\n",
    "\n",
    "import warnings\n",
    "warnings.filterwarnings('ignore')"
   ]
  },
  {
   "cell_type": "code",
   "execution_count": 73,
   "metadata": {},
   "outputs": [],
   "source": [
    "def getElev(lat, lon, buffer):\n",
    "    \"\"\"\n",
    "    Function to get the DEM data for a given latitude and longitude.\n",
    "    Latitude and Longitude should be in WGS83 \n",
    "    \n",
    "    # EPQS\n",
    "    # https://nationalmap.gov/epqs/pqs.php\n",
    "    # x=-122\n",
    "    # y=44\n",
    "    # units=Meters\n",
    "    # output=json\n",
    "\n",
    "\n",
    "    \"\"\"\n",
    "    \n",
    "    root = 'https://nationalmap.gov/epqs/pqs.php'\n",
    "\n",
    "    transforms = [[-1, 1],  [0, 1],   [1, 1],\n",
    "                  [-1, 0],  [0, 0],  [1, 0],\n",
    "                  [-1, -1], [0, -1], [1, -1]]\n",
    "    elev = []\n",
    "    x = []\n",
    "    y = []\n",
    "\n",
    "    for i in range(0, 9):\n",
    "        qlon = lon  + buffer*transforms[i][0]\n",
    "        qlat = lat + buffer*transforms[i][1]\n",
    "\n",
    "        # assumes that the input coords are specific in latitude/longitude (NAD 1983)\n",
    "        params = {'x': qlon,\n",
    "                  'y': qlat,\n",
    "                  'units':'Meters',\n",
    "                  'output':'json'}\n",
    "\n",
    "        # make the WFS request\n",
    "        r = requests.get(url = root, params = params, verify=False)\n",
    "\n",
    "\n",
    "        # parse the respone\n",
    "        res = json.loads(r.text)\n",
    "        dat = res['USGS_Elevation_Point_Query_Service']['Elevation_Query']\n",
    "        elev.append(dat['Elevation'])\n",
    "        x.append(dat['x'])\n",
    "        y.append(dat['y'])\n",
    "\n",
    "    elev = numpy.array(elev).reshape(-1,3)\n",
    "    x = numpy.array(x).reshape(-1,3)\n",
    "    y = numpy.array(y).reshape(-1,3)\n",
    "\n",
    "    return elev, x, y"
   ]
  },
  {
   "cell_type": "code",
   "execution_count": 74,
   "metadata": {},
   "outputs": [],
   "source": [
    "lat = 44.8004\n",
    "lon = -122.6089\n",
    "buffer = 0.01\n",
    "\n",
    "elev, x, y = getElev(lat, lon, buffer)"
   ]
  },
  {
   "cell_type": "code",
   "execution_count": 75,
   "metadata": {},
   "outputs": [
    {
     "data": {
      "text/plain": [
       "array([[428.45, 398.37, 484.87],\n",
       "       [297.6 , 312.91, 296.87],\n",
       "       [193.6 , 205.37, 203.39]])"
      ]
     },
     "execution_count": 75,
     "metadata": {},
     "output_type": "execute_result"
    }
   ],
   "source": [
    "elev"
   ]
  },
  {
   "cell_type": "code",
   "execution_count": null,
   "metadata": {},
   "outputs": [],
   "source": [
    "# todo:\n",
    "# convert to rasterio object?\n",
    "# compute slope, aspect, etc."
   ]
  },
  {
   "cell_type": "code",
   "execution_count": 15,
   "metadata": {},
   "outputs": [],
   "source": [
    "import rasterio\n",
    "from rasterio.transform import from_origin"
   ]
  },
  {
   "cell_type": "code",
   "execution_count": 18,
   "metadata": {},
   "outputs": [],
   "source": [
    "r.raw.decode_content = True"
   ]
  },
  {
   "cell_type": "code",
   "execution_count": null,
   "metadata": {},
   "outputs": [],
   "source": [
    "# WEB COVERAGE SERVICE - CANNOT GET THIS TO WORK\n",
    "# 'https://elevation.nationalmap.gov/arcgis/services/3DEPElevation/ImageServer/WCSServer'\n",
    "# request=GetCoverage\n",
    "# service=WCS\n",
    "# version=1.0.0\n",
    "# Coverage=\" + str(c.id) + \"\n",
    "# bbox=\" + str(rBBOX) + \"\n",
    "# format=\" +  str(rfmt) + \"\n",
    "# width=\" + str(resx) + \"\n",
    "# height=\" + str(resy) + \"\n",
    "# crs=\" + str(rCRS) + str(kvp_sep)\n",
    "\n",
    "# # the url of the web service for WBD info\n",
    "# root = 'https://elevation.nationalmap.gov/arcgis/services/3DEPElevation/ImageServer/WCSServer'\n",
    "\n",
    "# https://elevation.nationalmap.gov:443/arcgis/services/3DEPElevation/ImageServer/WCSServer?\n",
    "#SERVICE=WCS\n",
    "#REQUEST=GetCoverage\n",
    "#VERSION=2.0.1\n",
    "#COVERAGEID=DEP3Elevation\n",
    "#SUBSET=x(-20037507.0672000013,-11911185.14836644)\n",
    "#SUBSET=y(4474012.1150791775,4478208.115037268)\n",
    "#SCALESIZE=x(33),y(42)\n",
    "#Format=image/tiff\n"
   ]
  },
  {
   "cell_type": "code",
   "execution_count": 66,
   "metadata": {},
   "outputs": [
    {
     "data": {
      "text/plain": [
       "{'huc12': '170900050601',\n",
       " 'huc10': '1709000506',\n",
       " 'huc8': '17090005',\n",
       " 'huc6': '170900',\n",
       " 'huc4': '1709',\n",
       " 'huc2': '17'}"
      ]
     },
     "execution_count": 66,
     "metadata": {},
     "output_type": "execute_result"
    }
   ],
   "source": [
    "\n"
   ]
  }
 ],
 "metadata": {
  "kernelspec": {
   "display_name": "Python [conda env:whw]",
   "language": "python",
   "name": "conda-env-whw-py"
  },
  "language_info": {
   "codemirror_mode": {
    "name": "ipython",
    "version": 3
   },
   "file_extension": ".py",
   "mimetype": "text/x-python",
   "name": "python",
   "nbconvert_exporter": "python",
   "pygments_lexer": "ipython3",
   "version": "3.6.11"
  }
 },
 "nbformat": 4,
 "nbformat_minor": 4
}
