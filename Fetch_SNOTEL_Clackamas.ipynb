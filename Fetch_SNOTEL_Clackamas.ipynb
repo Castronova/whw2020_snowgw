{
 "cells": [
  {
   "cell_type": "markdown",
   "metadata": {},
   "source": [
    "# Fetch and export SNOTEL sites and daily time series data\n",
    "2/29/2020"
   ]
  },
  {
   "cell_type": "code",
   "execution_count": 18,
   "metadata": {},
   "outputs": [],
   "source": [
    "from collections import OrderedDict\n",
    "\n",
    "import numpy as np\n",
    "import pandas as pd\n",
    "import geopandas as gpd\n",
    "from shapely import geometry as sgeom\n",
    "import ulmo\n",
    "\n",
    "import matplotlib.pyplot as plt\n",
    "%matplotlib inline"
   ]
  },
  {
   "cell_type": "code",
   "execution_count": 19,
   "metadata": {},
   "outputs": [],
   "source": [
    "##USER INPUTS## - most of this can be read directly from the .ctl file or the .par file \n",
    "#-> need to read in text file\n",
    "#start date\n",
    "st = \"2000-10-01\"\n",
    "#end date\n",
    "ed = \"2020-09-29\"\n",
    "\n",
    "\n",
    "#Snotel bounding box\n",
    "Bbox = {\n",
    "    'latmax' : 45.4562,\n",
    "    'latmin' : 44.8004,\n",
    "    'lonmax': -121.6515,\n",
    "    'lonmin': -122.6089,}\n",
    "\n",
    "# Snotel projection\n",
    "stn_proj = 'epsg:4326' #WGS84\n",
    "#model projection\n",
    "mod_proj = 'epsg:32612' #UTM zone 12N"
   ]
  },
  {
   "cell_type": "markdown",
   "metadata": {},
   "source": [
    "# Use ulmo to get SNOTEL station metadata within bounding box\n",
    "## Get SNOTEL metadata over modeling domain"
   ]
  },
  {
   "cell_type": "code",
   "execution_count": 20,
   "metadata": {},
   "outputs": [],
   "source": [
    "#function to extract data\n",
    "def sites_asgdf(ulmo_getsites, crs=stn_proj):\n",
    "    \"\"\" Convert ulmo.cuahsi.wof.get_sites response into a point GeoDataframe\n",
    "    \"\"\"\n",
    "    \n",
    "    # Note: Found one SNOTEL site that was missing the location key\n",
    "    sites_df = pd.DataFrame.from_records([\n",
    "        OrderedDict(code=s['code'], \n",
    "        longitude=float(s['location']['longitude']), \n",
    "        latitude=float(s['location']['latitude']), \n",
    "        name=s['name'], \n",
    "        elevation_m=s['elevation_m'])\n",
    "        for _,s in ulmo_getsites.items()\n",
    "        if 'location' in s\n",
    "    ])\n",
    "\n",
    "    sites_gdf = gpd.GeoDataFrame(\n",
    "        sites_df, \n",
    "        geometry=gpd.points_from_xy(sites_df['longitude'], sites_df['latitude']),\n",
    "        crs=crs\n",
    "    )\n",
    "    return sites_gdf"
   ]
  },
  {
   "cell_type": "code",
   "execution_count": 21,
   "metadata": {},
   "outputs": [],
   "source": [
    "# Convert the bounding box dictionary to a shapely Polygon geometry using sgeom.box\n",
    "box_sgeom = sgeom.box(Bbox['lonmin'], Bbox['latmin'], Bbox['lonmax'], Bbox['latmax'])\n",
    "box_gdf = gpd.GeoDataFrame(geometry=[box_sgeom], crs=stn_proj)"
   ]
  },
  {
   "cell_type": "code",
   "execution_count": 22,
   "metadata": {},
   "outputs": [],
   "source": [
    "# WaterML/WOF WSDL endpoint url \n",
    "wsdlurl = \"http://hydroportal.cuahsi.org/Snotel/cuahsi_1_1.asmx?WSDL\"\n",
    "\n",
    "# get dictionary of snotel sites \n",
    "sites = ulmo.cuahsi.wof.get_sites(wsdlurl)\n",
    "\n",
    "#turn sites as geodataframe \n",
    "snotel_gdf = sites_asgdf(sites)"
   ]
  },
  {
   "cell_type": "code",
   "execution_count": 23,
   "metadata": {},
   "outputs": [
    {
     "data": {
      "text/html": [
       "<div>\n",
       "<style scoped>\n",
       "    .dataframe tbody tr th:only-of-type {\n",
       "        vertical-align: middle;\n",
       "    }\n",
       "\n",
       "    .dataframe tbody tr th {\n",
       "        vertical-align: top;\n",
       "    }\n",
       "\n",
       "    .dataframe thead th {\n",
       "        text-align: right;\n",
       "    }\n",
       "</style>\n",
       "<table border=\"1\" class=\"dataframe\">\n",
       "  <thead>\n",
       "    <tr style=\"text-align: right;\">\n",
       "      <th></th>\n",
       "      <th>code</th>\n",
       "      <th>longitude</th>\n",
       "      <th>latitude</th>\n",
       "      <th>name</th>\n",
       "      <th>elevation_m</th>\n",
       "      <th>geometry</th>\n",
       "      <th>easting</th>\n",
       "      <th>northing</th>\n",
       "    </tr>\n",
       "  </thead>\n",
       "  <tbody>\n",
       "    <tr>\n",
       "      <th>0</th>\n",
       "      <td>351_OR_SNTL</td>\n",
       "      <td>-121.856049</td>\n",
       "      <td>45.428699</td>\n",
       "      <td>Blazed Alder</td>\n",
       "      <td>1112.52001953125</td>\n",
       "      <td>POINT (-121.85605 45.42870)</td>\n",
       "      <td>-349122.260934</td>\n",
       "      <td>5.088226e+06</td>\n",
       "    </tr>\n",
       "    <tr>\n",
       "      <th>1</th>\n",
       "      <td>398_OR_SNTL</td>\n",
       "      <td>-121.754433</td>\n",
       "      <td>45.096581</td>\n",
       "      <td>Clackamas Lake</td>\n",
       "      <td>1036.3199462890625</td>\n",
       "      <td>POINT (-121.75443 45.09658)</td>\n",
       "      <td>-346153.306893</td>\n",
       "      <td>5.050260e+06</td>\n",
       "    </tr>\n",
       "    <tr>\n",
       "      <th>2</th>\n",
       "      <td>401_OR_SNTL</td>\n",
       "      <td>-121.691597</td>\n",
       "      <td>45.188320</td>\n",
       "      <td>Clear Lake</td>\n",
       "      <td>1161.2879638671875</td>\n",
       "      <td>POINT (-121.69160 45.18832)</td>\n",
       "      <td>-339846.412006</td>\n",
       "      <td>5.059786e+06</td>\n",
       "    </tr>\n",
       "    <tr>\n",
       "      <th>3</th>\n",
       "      <td>1029_OR_SNTL</td>\n",
       "      <td>-122.050003</td>\n",
       "      <td>44.816669</td>\n",
       "      <td>Epa Metolius</td>\n",
       "      <td>917.447998046875</td>\n",
       "      <td>POINT (-122.05000 44.81667)</td>\n",
       "      <td>-373695.245509</td>\n",
       "      <td>5.022342e+06</td>\n",
       "    </tr>\n",
       "    <tr>\n",
       "      <th>4</th>\n",
       "      <td>651_OR_SNTL</td>\n",
       "      <td>-121.715797</td>\n",
       "      <td>45.320969</td>\n",
       "      <td>Mt Hood Test Site</td>\n",
       "      <td>1636.7760009765625</td>\n",
       "      <td>POINT (-121.71580 45.32097)</td>\n",
       "      <td>-339766.890081</td>\n",
       "      <td>5.074773e+06</td>\n",
       "    </tr>\n",
       "  </tbody>\n",
       "</table>\n",
       "</div>"
      ],
      "text/plain": [
       "           code   longitude   latitude               name         elevation_m  \\\n",
       "0   351_OR_SNTL -121.856049  45.428699       Blazed Alder    1112.52001953125   \n",
       "1   398_OR_SNTL -121.754433  45.096581     Clackamas Lake  1036.3199462890625   \n",
       "2   401_OR_SNTL -121.691597  45.188320         Clear Lake  1161.2879638671875   \n",
       "3  1029_OR_SNTL -122.050003  44.816669       Epa Metolius    917.447998046875   \n",
       "4   651_OR_SNTL -121.715797  45.320969  Mt Hood Test Site  1636.7760009765625   \n",
       "\n",
       "                      geometry        easting      northing  \n",
       "0  POINT (-121.85605 45.42870) -349122.260934  5.088226e+06  \n",
       "1  POINT (-121.75443 45.09658) -346153.306893  5.050260e+06  \n",
       "2  POINT (-121.69160 45.18832) -339846.412006  5.059786e+06  \n",
       "3  POINT (-122.05000 44.81667) -373695.245509  5.022342e+06  \n",
       "4  POINT (-121.71580 45.32097) -339766.890081  5.074773e+06  "
      ]
     },
     "execution_count": 23,
     "metadata": {},
     "output_type": "execute_result"
    }
   ],
   "source": [
    "CSO_gdf = gpd.sjoin(snotel_gdf, box_gdf, how=\"inner\")\n",
    "CSO_gdf.drop(columns='index_right', inplace=True)\n",
    "CSO_gdf.reset_index(drop=True, inplace=True)\n",
    "#CSO_gdf.index = CSO_gdf['code']\n",
    "\n",
    "#add columns with projected coordinates \n",
    "CSO_proj = CSO_gdf.to_crs(mod_proj)\n",
    "CSO_gdf['easting'] = CSO_proj.geometry.x\n",
    "CSO_gdf['northing'] = CSO_proj.geometry.y\n",
    "\n",
    "CSO_gdf.head()"
   ]
  },
  {
   "cell_type": "code",
   "execution_count": 24,
   "metadata": {},
   "outputs": [
    {
     "data": {
      "image/png": "[encoded data removed]",
      "text/plain": [
       "<Figure size 432x288 with 1 Axes>"
      ]
     },
     "metadata": {
      "needs_background": "light"
     },
     "output_type": "display_data"
    }
   ],
   "source": [
    "CSO_gdf.plot();"
   ]
  },
  {
   "cell_type": "markdown",
   "metadata": {},
   "source": [
    "## Get SNOTEL SWE data in domain over time period of interest"
   ]
  },
  {
   "cell_type": "code",
   "execution_count": 25,
   "metadata": {},
   "outputs": [],
   "source": [
    "#Emilio code\n",
    "\n",
    "def fetch(sitecode, variablecode, start_date, end_date):\n",
    "    print(sitecode, variablecode, start_date, end_date)\n",
    "    values_df = None\n",
    "    try:\n",
    "        #Request data from the server\n",
    "        site_values = ulmo.cuahsi.wof.get_values(\n",
    "            wsdlurl, 'SNOTEL:'+sitecode, variablecode, start=start_date, end=end_date\n",
    "        )\n",
    "        #Convert to a Pandas DataFrame   \n",
    "        values_df = pd.DataFrame.from_dict(site_values['values'])\n",
    "        #Parse the datetime values to Pandas Timestamp objects\n",
    "        values_df['datetime'] = pd.to_datetime(values_df['datetime'])\n",
    "        #Set the DataFrame index to the Timestamps\n",
    "        values_df.set_index('datetime', inplace=True)\n",
    "        #Convert values to float and replace -9999 nodata values with NaN\n",
    "        values_df['value'] = pd.to_numeric(values_df['value']).replace(-9999, np.nan)\n",
    "        #Remove any records flagged with lower quality\n",
    "        values_df = values_df[values_df['quality_control_level_code'] == '1']\n",
    "    except:\n",
    "        print(\"Unable to fetch %s\" % variablecode)\n",
    "    \n",
    "    return values_df"
   ]
  },
  {
   "cell_type": "code",
   "execution_count": 26,
   "metadata": {},
   "outputs": [
    {
     "name": "stdout",
     "output_type": "stream",
     "text": [
      "351_OR_SNTL SNOTEL:WTEQ_D 2000-10-01 2020-09-29\n",
      "398_OR_SNTL SNOTEL:WTEQ_D 2000-10-01 2020-09-29\n",
      "401_OR_SNTL SNOTEL:WTEQ_D 2000-10-01 2020-09-29\n",
      "1029_OR_SNTL SNOTEL:WTEQ_D 2000-10-01 2020-09-29\n"
     ]
    },
    {
     "name": "stderr",
     "output_type": "stream",
     "text": [
      "<suds.sax.document.Document object at 0x7f8cf1c4a390>\n"
     ]
    },
    {
     "name": "stdout",
     "output_type": "stream",
     "text": [
      "Unable to fetch SNOTEL:WTEQ_D\n",
      "1029_OR_SNTL has no data\n",
      "651_OR_SNTL SNOTEL:WTEQ_D 2000-10-01 2020-09-29\n",
      "655_OR_SNTL SNOTEL:WTEQ_D 2000-10-01 2020-09-29\n",
      "687_OR_SNTL SNOTEL:WTEQ_D 2000-10-01 2020-09-29\n",
      "925_OR_SNTL SNOTEL:WTEQ_D 2000-10-01 2020-09-29\n",
      "1007_OR_SNTL SNOTEL:WTEQ_D 2000-10-01 2020-09-29\n"
     ]
    },
    {
     "name": "stderr",
     "output_type": "stream",
     "text": [
      "<suds.sax.document.Document object at 0x7f8cf238f6a0>\n"
     ]
    },
    {
     "name": "stdout",
     "output_type": "stream",
     "text": [
      "Unable to fetch SNOTEL:WTEQ_D\n",
      "1007_OR_SNTL has no data\n"
     ]
    }
   ],
   "source": [
    "stn_swe = pd.DataFrame(index=pd.date_range(start=st, end=ed))\n",
    "\n",
    "for sitecode in CSO_gdf.code:\n",
    "    try:\n",
    "        swe = fetch(sitecode, variablecode='SNOTEL:WTEQ_D', start_date=st, end_date=ed)\n",
    "        stn_swe[sitecode] = swe.value\n",
    "    except:\n",
    "        print(sitecode, 'has no data')\n",
    "        stn_swe[sitecode] = np.nan"
   ]
  },
  {
   "cell_type": "code",
   "execution_count": 27,
   "metadata": {},
   "outputs": [
    {
     "data": {
      "text/html": [
       "<div>\n",
       "<style scoped>\n",
       "    .dataframe tbody tr th:only-of-type {\n",
       "        vertical-align: middle;\n",
       "    }\n",
       "\n",
       "    .dataframe tbody tr th {\n",
       "        vertical-align: top;\n",
       "    }\n",
       "\n",
       "    .dataframe thead th {\n",
       "        text-align: right;\n",
       "    }\n",
       "</style>\n",
       "<table border=\"1\" class=\"dataframe\">\n",
       "  <thead>\n",
       "    <tr style=\"text-align: right;\">\n",
       "      <th></th>\n",
       "      <th>351_OR_SNTL</th>\n",
       "      <th>398_OR_SNTL</th>\n",
       "      <th>401_OR_SNTL</th>\n",
       "      <th>1029_OR_SNTL</th>\n",
       "      <th>651_OR_SNTL</th>\n",
       "      <th>655_OR_SNTL</th>\n",
       "      <th>687_OR_SNTL</th>\n",
       "      <th>925_OR_SNTL</th>\n",
       "      <th>1007_OR_SNTL</th>\n",
       "    </tr>\n",
       "  </thead>\n",
       "  <tbody>\n",
       "    <tr>\n",
       "      <th>2000-10-01</th>\n",
       "      <td>0.0</td>\n",
       "      <td>0.0</td>\n",
       "      <td>0.0</td>\n",
       "      <td>NaN</td>\n",
       "      <td>0.0</td>\n",
       "      <td>0.0</td>\n",
       "      <td>0.0</td>\n",
       "      <td>0.0</td>\n",
       "      <td>NaN</td>\n",
       "    </tr>\n",
       "    <tr>\n",
       "      <th>2000-10-02</th>\n",
       "      <td>0.0</td>\n",
       "      <td>0.0</td>\n",
       "      <td>0.0</td>\n",
       "      <td>NaN</td>\n",
       "      <td>0.0</td>\n",
       "      <td>0.0</td>\n",
       "      <td>0.0</td>\n",
       "      <td>0.0</td>\n",
       "      <td>NaN</td>\n",
       "    </tr>\n",
       "    <tr>\n",
       "      <th>2000-10-03</th>\n",
       "      <td>0.0</td>\n",
       "      <td>0.0</td>\n",
       "      <td>0.0</td>\n",
       "      <td>NaN</td>\n",
       "      <td>0.0</td>\n",
       "      <td>0.0</td>\n",
       "      <td>0.0</td>\n",
       "      <td>0.0</td>\n",
       "      <td>NaN</td>\n",
       "    </tr>\n",
       "    <tr>\n",
       "      <th>2000-10-04</th>\n",
       "      <td>0.0</td>\n",
       "      <td>0.0</td>\n",
       "      <td>0.0</td>\n",
       "      <td>NaN</td>\n",
       "      <td>0.0</td>\n",
       "      <td>0.0</td>\n",
       "      <td>0.0</td>\n",
       "      <td>0.0</td>\n",
       "      <td>NaN</td>\n",
       "    </tr>\n",
       "    <tr>\n",
       "      <th>2000-10-05</th>\n",
       "      <td>0.0</td>\n",
       "      <td>0.0</td>\n",
       "      <td>0.0</td>\n",
       "      <td>NaN</td>\n",
       "      <td>0.0</td>\n",
       "      <td>0.0</td>\n",
       "      <td>0.0</td>\n",
       "      <td>0.0</td>\n",
       "      <td>NaN</td>\n",
       "    </tr>\n",
       "  </tbody>\n",
       "</table>\n",
       "</div>"
      ],
      "text/plain": [
       "            351_OR_SNTL  398_OR_SNTL  401_OR_SNTL  1029_OR_SNTL  651_OR_SNTL  \\\n",
       "2000-10-01          0.0          0.0          0.0           NaN          0.0   \n",
       "2000-10-02          0.0          0.0          0.0           NaN          0.0   \n",
       "2000-10-03          0.0          0.0          0.0           NaN          0.0   \n",
       "2000-10-04          0.0          0.0          0.0           NaN          0.0   \n",
       "2000-10-05          0.0          0.0          0.0           NaN          0.0   \n",
       "\n",
       "            655_OR_SNTL  687_OR_SNTL  925_OR_SNTL  1007_OR_SNTL  \n",
       "2000-10-01          0.0          0.0          0.0           NaN  \n",
       "2000-10-02          0.0          0.0          0.0           NaN  \n",
       "2000-10-03          0.0          0.0          0.0           NaN  \n",
       "2000-10-04          0.0          0.0          0.0           NaN  \n",
       "2000-10-05          0.0          0.0          0.0           NaN  "
      ]
     },
     "execution_count": 27,
     "metadata": {},
     "output_type": "execute_result"
    }
   ],
   "source": [
    "stn_swe.head()"
   ]
  },
  {
   "cell_type": "code",
   "execution_count": 28,
   "metadata": {},
   "outputs": [
    {
     "data": {
      "text/html": [
       "<div>\n",
       "<style scoped>\n",
       "    .dataframe tbody tr th:only-of-type {\n",
       "        vertical-align: middle;\n",
       "    }\n",
       "\n",
       "    .dataframe tbody tr th {\n",
       "        vertical-align: top;\n",
       "    }\n",
       "\n",
       "    .dataframe thead th {\n",
       "        text-align: right;\n",
       "    }\n",
       "</style>\n",
       "<table border=\"1\" class=\"dataframe\">\n",
       "  <thead>\n",
       "    <tr style=\"text-align: right;\">\n",
       "      <th></th>\n",
       "      <th>351_OR_SNTL</th>\n",
       "      <th>398_OR_SNTL</th>\n",
       "      <th>401_OR_SNTL</th>\n",
       "      <th>1029_OR_SNTL</th>\n",
       "      <th>651_OR_SNTL</th>\n",
       "      <th>655_OR_SNTL</th>\n",
       "      <th>687_OR_SNTL</th>\n",
       "      <th>925_OR_SNTL</th>\n",
       "      <th>1007_OR_SNTL</th>\n",
       "    </tr>\n",
       "  </thead>\n",
       "  <tbody>\n",
       "    <tr>\n",
       "      <th>2000-10-01</th>\n",
       "      <td>0.0</td>\n",
       "      <td>0.0</td>\n",
       "      <td>0.0</td>\n",
       "      <td>NaN</td>\n",
       "      <td>0.0</td>\n",
       "      <td>0.0</td>\n",
       "      <td>0.0</td>\n",
       "      <td>0.0</td>\n",
       "      <td>NaN</td>\n",
       "    </tr>\n",
       "    <tr>\n",
       "      <th>2000-10-02</th>\n",
       "      <td>0.0</td>\n",
       "      <td>0.0</td>\n",
       "      <td>0.0</td>\n",
       "      <td>NaN</td>\n",
       "      <td>0.0</td>\n",
       "      <td>0.0</td>\n",
       "      <td>0.0</td>\n",
       "      <td>0.0</td>\n",
       "      <td>NaN</td>\n",
       "    </tr>\n",
       "    <tr>\n",
       "      <th>2000-10-03</th>\n",
       "      <td>0.0</td>\n",
       "      <td>0.0</td>\n",
       "      <td>0.0</td>\n",
       "      <td>NaN</td>\n",
       "      <td>0.0</td>\n",
       "      <td>0.0</td>\n",
       "      <td>0.0</td>\n",
       "      <td>0.0</td>\n",
       "      <td>NaN</td>\n",
       "    </tr>\n",
       "    <tr>\n",
       "      <th>2000-10-04</th>\n",
       "      <td>0.0</td>\n",
       "      <td>0.0</td>\n",
       "      <td>0.0</td>\n",
       "      <td>NaN</td>\n",
       "      <td>0.0</td>\n",
       "      <td>0.0</td>\n",
       "      <td>0.0</td>\n",
       "      <td>0.0</td>\n",
       "      <td>NaN</td>\n",
       "    </tr>\n",
       "    <tr>\n",
       "      <th>2000-10-05</th>\n",
       "      <td>0.0</td>\n",
       "      <td>0.0</td>\n",
       "      <td>0.0</td>\n",
       "      <td>NaN</td>\n",
       "      <td>0.0</td>\n",
       "      <td>0.0</td>\n",
       "      <td>0.0</td>\n",
       "      <td>0.0</td>\n",
       "      <td>NaN</td>\n",
       "    </tr>\n",
       "  </tbody>\n",
       "</table>\n",
       "</div>"
      ],
      "text/plain": [
       "            351_OR_SNTL  398_OR_SNTL  401_OR_SNTL  1029_OR_SNTL  651_OR_SNTL  \\\n",
       "2000-10-01          0.0          0.0          0.0           NaN          0.0   \n",
       "2000-10-02          0.0          0.0          0.0           NaN          0.0   \n",
       "2000-10-03          0.0          0.0          0.0           NaN          0.0   \n",
       "2000-10-04          0.0          0.0          0.0           NaN          0.0   \n",
       "2000-10-05          0.0          0.0          0.0           NaN          0.0   \n",
       "\n",
       "            655_OR_SNTL  687_OR_SNTL  925_OR_SNTL  1007_OR_SNTL  \n",
       "2000-10-01          0.0          0.0          0.0           NaN  \n",
       "2000-10-02          0.0          0.0          0.0           NaN  \n",
       "2000-10-03          0.0          0.0          0.0           NaN  \n",
       "2000-10-04          0.0          0.0          0.0           NaN  \n",
       "2000-10-05          0.0          0.0          0.0           NaN  "
      ]
     },
     "execution_count": 28,
     "metadata": {},
     "output_type": "execute_result"
    }
   ],
   "source": [
    "#convert SNOTEL units[in] to SnowModel units [m]\n",
    "for sitecode in CSO_gdf.code:\n",
    "    # overwrite the original values (no use for the original values in inches)\n",
    "    stn_swe[sitecode] = 0.0254 * stn_swe[sitecode]\n",
    "\n",
    "stn_swe.head()"
   ]
  },
  {
   "cell_type": "code",
   "execution_count": 30,
   "metadata": {},
   "outputs": [
    {
     "data": {
      "image/png": "[encoded data removed]",
      "text/plain": [
       "<Figure size 432x288 with 1 Axes>"
      ]
     },
     "metadata": {
      "needs_background": "light"
     },
     "output_type": "display_data"
    }
   ],
   "source": [
    "stn_swe.plot(y='398_OR_SNTL', title='Daily SWE [m]');"
   ]
  },
  {
   "cell_type": "markdown",
   "metadata": {},
   "source": [
    "## Export the sites and daily time series to files, for reuse\n",
    "- CSO_gdf to GeoJSON\n",
    "- stn_swe to csv or parquet"
   ]
  },
  {
   "cell_type": "markdown",
   "metadata": {},
   "source": [
    "**Note:** Sometimes the statement below produces this warning:\n",
    "```\n",
    "CSO_SNOTEL_sites.geojson: No such file or directory \n",
    "driver GeoJSON does not support creation option ENCODING\n",
    "```\n",
    "\n",
    "Ignore it. The GeoJSON file is still written out without issues."
   ]
  },
  {
   "cell_type": "code",
   "execution_count": 34,
   "metadata": {},
   "outputs": [],
   "source": [
    "CSO_gdf.to_file('ClackamasLake_Snotel_SWE', driver='GeoJSON')"
   ]
  },
  {
   "cell_type": "code",
   "execution_count": 35,
   "metadata": {},
   "outputs": [
    {
     "data": {
      "text/plain": [
       "7304"
      ]
     },
     "execution_count": 35,
     "metadata": {},
     "output_type": "execute_result"
    }
   ],
   "source": [
    "len(stn_swe)"
   ]
  },
  {
   "cell_type": "code",
   "execution_count": 36,
   "metadata": {},
   "outputs": [],
   "source": [
    "# The file that's written is tiny, only 0.5 MB\n",
    "stn_swe.to_csv('ClackamasLake_Snotel_SWE.csv')"
   ]
  },
  {
   "cell_type": "code",
   "execution_count": null,
   "metadata": {},
   "outputs": [],
   "source": []
  },
  {
   "cell_type": "code",
   "execution_count": null,
   "metadata": {},
   "outputs": [],
   "source": []
  }
 ],
 "metadata": {
  "kernelspec": {
   "display_name": "Python [conda env:whw]",
   "language": "python",
   "name": "conda-env-whw-py"
  },
  "language_info": {
   "codemirror_mode": {
    "name": "ipython",
    "version": 3
   },
   "file_extension": ".py",
   "mimetype": "text/x-python",
   "name": "python",
   "nbconvert_exporter": "python",
   "pygments_lexer": "ipython3",
   "version": "3.6.11"
  }
 },
 "nbformat": 4,
 "nbformat_minor": 4
}
